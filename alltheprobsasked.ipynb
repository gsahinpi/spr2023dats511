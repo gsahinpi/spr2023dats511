{
 "cells": [
  {
   "cell_type": "markdown",
   "metadata": {},
   "source": [
    "HW1) Plecebo and drug\n",
    "1) Do the plecebo and drug example only using gaussians instead of t distdribution\n",
    "\n",
    "2)  Create  two pandas dataframe one for marmara fault add one for the maraş fault (or a region),  get the and list the \n",
    "\n",
    "i) number of earthquakes  per month\n",
    "\n",
    "ii) total energy like values for month (total magnetude per mont)"
   ]
  },
  {
   "cell_type": "markdown",
   "metadata": {},
   "source": [
    "HW2)investigate the relationship between age at marriage, A, and\n",
    "marriage rate, M, to complete the picture. (based on example done in class)\n"
   ]
  },
  {
   "cell_type": "markdown",
   "metadata": {},
   "source": [
    "Midterm Project\n",
    "Create a simulation and analyze it for each item in the spr2023dats511/Allthedags.ipynb at main · gsahinpi/spr2023dats511 (github.com). By simulation what i mean  is that for instance for post treatment effect you will create simulation that has post treatment effect and analysis."
   ]
  },
  {
   "cell_type": "markdown",
   "metadata": {},
   "source": [
    "Final\n",
    "Try to detect a switching point behaviour in earth quakes where your case is Maraş Earthquake. Your Task is to detect if any changes in the earthquake beahvour prior to MAraş Earthquake (don't include big earthqauke  ).  Assume Poissson likelyhood (if ypu want to try an extra likelyhood you are more than welcome)\n",
    "\n",
    "As starting point you can check spr2023dats511/glm1.ipynb at main · gsahinpi/spr2023dats511 (github.com) and spr2023dats511/poisson.ipynb at main · gsahinpi/spr2023dats511 · GitHub\n"
   ]
  },
  {
   "cell_type": "markdown",
   "metadata": {},
   "source": []
  }
 ],
 "metadata": {
  "language_info": {
   "name": "python"
  },
  "orig_nbformat": 4
 },
 "nbformat": 4,
 "nbformat_minor": 2
}
